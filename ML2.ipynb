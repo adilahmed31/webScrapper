{
 "cells": [
  {
   "cell_type": "code",
   "execution_count": 1,
   "metadata": {},
   "outputs": [],
   "source": [
    "import pandas as pd\n",
    "import math\n",
    "import matplotlib.pyplot as plt\n",
    "# for visualization\n",
    "#import pydot"
   ]
  },
  {
   "cell_type": "code",
   "execution_count": 2,
   "metadata": {},
   "outputs": [],
   "source": [
    "def get_entropy(data):\n",
    "    \"\"\"\n",
    "    Calculate entropy\n",
    "    \"\"\"\n",
    "    if data.empty:\n",
    "        return 0\n",
    "    Y = data.y\n",
    "    n0 = len(data[data.y == 0])\n",
    "    n1 = len(data[data.y == 1])\n",
    "    p0 = n0/(n1+n0)\n",
    "    p1 = n1/(n1+n0)\n",
    "    if n0 == 0:\n",
    "        hp0 = 0\n",
    "    else:\n",
    "        hp0 = - p0*(math.log(p0) / math.log(2))\n",
    "    if n1 == 0:\n",
    "        hp1 = 0\n",
    "    else:\n",
    "        hp1 = - p1*(math.log(p1) / math.log(2))\n",
    "    hp = hp1+hp0\n",
    "    return hp"
   ]
  },
  {
   "cell_type": "code",
   "execution_count": 3,
   "metadata": {},
   "outputs": [],
   "source": [
    "def info_gain(data, threshold, feature):\n",
    "    \"\"\"\n",
    "    calculate information gain\n",
    "    \"\"\"\n",
    "    # threshold -- integer\n",
    "    # feature -- string, the feature thta we want to calculate info gain on\n",
    "    X = data[[feature, 'y']]\n",
    "    l_data = X[X[feature] >= threshold]  # get left partition where feature's value >= threshold\n",
    "    r_data = X[X[feature] < threshold]  # get right partition  \n",
    "    l_p_theta = len(l_data)/len(data)\n",
    "    r_p_theta = len(r_data)/len(data)\n",
    "    hy = get_entropy(data)\n",
    "    hy_theta = l_p_theta*get_entropy(l_data) + r_p_theta*get_entropy(r_data)\n",
    "    return hy-hy_theta"
   ]
  },
  {
   "cell_type": "code",
   "execution_count": 4,
   "metadata": {},
   "outputs": [],
   "source": [
    "def find_best_threshold(data):\n",
    "    largest_gain = 0\n",
    "    threshold = 0\n",
    "    feature = None\n",
    "    features = list(data.drop(['y'],axis = 1).columns)\n",
    "    for f in features:\n",
    "        sorted_data = data.sort_values(by=[f])\n",
    "        for r in range(len(sorted_data)):  # start from 1 to avoid having empty left dataset\n",
    "            gain = info_gain(data, sorted_data.iloc[r][f], f)\n",
    "            if gain > largest_gain:\n",
    "                largest_gain = gain\n",
    "                threshold = sorted_data.iloc[r][f]\n",
    "                feature = f\n",
    "    return largest_gain, threshold, feature"
   ]
  },
  {
   "cell_type": "code",
   "execution_count": 5,
   "metadata": {},
   "outputs": [],
   "source": [
    "class Leaf:\n",
    "    \"\"\"\n",
    "    A Leaf node, containing final classification (0 or 1)\n",
    "\n",
    "    \"\"\"\n",
    "\n",
    "    def __init__(self, data):\n",
    "        y1 = len(data[data.y == 1])\n",
    "        y0 = len(data[data.y == 0])\n",
    "        if y1 >= y0:\n",
    "            self.prediction = 1\n",
    "        else:\n",
    "            self.prediction = 0"
   ]
  },
  {
   "cell_type": "code",
   "execution_count": 6,
   "metadata": {},
   "outputs": [],
   "source": [
    "class Stump:\n",
    "    \"\"\"A Decision Stump.\n",
    "\n",
    "    Stump contains \"Xj >= t\" , two child stumps.\n",
    "    \"\"\"\n",
    "\n",
    "    def __init__(self,\n",
    "                 threshold,\n",
    "                 feature,\n",
    "                 left_branch,\n",
    "                 right_branch):\n",
    "        self.threshold = threshold\n",
    "        self.feature = feature\n",
    "        self.left_branch = left_branch\n",
    "        self.right_branch = right_branch"
   ]
  },
  {
   "cell_type": "code",
   "execution_count": 7,
   "metadata": {},
   "outputs": [],
   "source": [
    "def build_tree(data):\n",
    "    \"\"\"\n",
    "    Builds the tree.\n",
    "    \"\"\"\n",
    "\n",
    "    # Base case 1: empty node\n",
    "    if data.empty:\n",
    "#         print(\"leaf built!\")\n",
    "        return Leaf(data)\n",
    "    \n",
    "    gain, threshold, feature = find_best_threshold(data)\n",
    "#     print(\"info gain = \", gain)\n",
    "    # Base case 2: 0 info gain\n",
    "    if gain == 0:\n",
    "#         print(\"leaf built!\")\n",
    "        return Leaf(data)\n",
    "\n",
    "    left_data = data[data[feature] >= threshold].reset_index(drop=True)\n",
    "    right_data = data[data[feature] < threshold].reset_index(drop=True)\n",
    "\n",
    "    # Recursively build the true branch.\n",
    "    left_branch = build_tree(left_data)\n",
    "\n",
    "    # Recursively build the false branch.\n",
    "    right_branch = build_tree(right_data)\n",
    "\n",
    "    return Stump(threshold, feature, left_branch, right_branch)"
   ]
  },
  {
   "cell_type": "code",
   "execution_count": 8,
   "metadata": {},
   "outputs": [],
   "source": [
    "def predict_from_single_data(d_tree, data):\n",
    "    \"\"\"\n",
    "    predict every data's y based on its features\n",
    "    \"\"\"\n",
    "    if isinstance(d_tree, Leaf):\n",
    "        return d_tree.prediction\n",
    "    if 'y' in list(data.columns):\n",
    "        X = list(data.drop(['y'],axis = 1).columns)\n",
    "    else:\n",
    "        X = list(data.columns)\n",
    "    for i in range(len(data)):\n",
    "        for x in X:\n",
    "            if x == d_tree.feature:\n",
    "                if data[x].iloc[0] >= d_tree.threshold:\n",
    "                    return predict_from_single_data(d_tree.left_branch, data)\n",
    "                else:\n",
    "                    return predict_from_single_data(d_tree.right_branch, data)"
   ]
  },
  {
   "cell_type": "code",
   "execution_count": 9,
   "metadata": {},
   "outputs": [],
   "source": [
    "def predict(d_tree, data):\n",
    "    predictions = []\n",
    "    for i in range(len(data)):\n",
    "        row = pd.DataFrame(data.iloc[i]).transpose()\n",
    "        row = row.reset_index(drop=True)\n",
    "#         print(row)\n",
    "        predictions.append(predict_from_single_data(d_tree,row))\n",
    "    return predictions"
   ]
  },
  {
   "cell_type": "code",
   "execution_count": 10,
   "metadata": {},
   "outputs": [],
   "source": [
    "def evaluate(d_tree, data):\n",
    "    pred = predict(d_tree,data)\n",
    "    true = data.y.tolist()\n",
    "    correct = 0\n",
    "    for i in range(len(pred)):\n",
    "        if pred[i] == true[i]:\n",
    "            correct +=1\n",
    "    return correct/len(pred)"
   ]
  },
  {
   "cell_type": "code",
   "execution_count": 11,
   "metadata": {},
   "outputs": [],
   "source": [
    "def print_tree(stump, spacing=\"\"):\n",
    "    \"\"\"World's most elegant tree printing function.\"\"\"\n",
    "\n",
    "    # Base case: we've reached a leaf\n",
    "    if isinstance(stump, Leaf):\n",
    "        \n",
    "        print (spacing + \"Predict \", stump.prediction)\n",
    "        return\n",
    "\n",
    "    # Print the question at this node\n",
    "    print (spacing + str(stump.feature)+\" >= \"+str(stump.threshold) + \"?\")\n",
    "\n",
    "    # Call this function recursively on the true branch\n",
    "    print (spacing + 'Then:')\n",
    "    print_tree(stump.left_branch, spacing + \"  |\")\n",
    "\n",
    "    # Call this function recursively on the false branch\n",
    "    print (spacing + 'Else:')\n",
    "    print_tree(stump.right_branch, spacing + \"  |\")"
   ]
  },
  {
   "cell_type": "code",
   "execution_count": 12,
   "metadata": {},
   "outputs": [],
   "source": [
    "def read_txt(filename):\n",
    "    data = pd.read_csv(filename,sep=\" \", header = None)\n",
    "    data.columns = [\"x1\",\"x2\",\"y\"]\n",
    "    return data"
   ]
  },
  {
   "cell_type": "code",
   "execution_count": 13,
   "metadata": {},
   "outputs": [],
   "source": [
    "#read data from txt file\n",
    "data = pd.read_csv('D2.txt', sep=\" \", header=None)\n",
    "data.columns = [\"x1\", \"x2\", \"y\"]"
   ]
  },
  {
   "cell_type": "code",
   "execution_count": 14,
   "metadata": {},
   "outputs": [],
   "source": [
    "training_set = data.sample(frac = 0.8, random_state=1)\n",
    "test_set = pd.concat([training_set, data]).drop_duplicates(keep=False)"
   ]
  },
  {
   "cell_type": "code",
   "execution_count": 15,
   "metadata": {},
   "outputs": [],
   "source": [
    "my_tree = build_tree(training_set)"
   ]
  },
  {
   "cell_type": "code",
   "execution_count": 16,
   "metadata": {},
   "outputs": [
    {
     "name": "stdout",
     "output_type": "stream",
     "text": [
      "0.94\n"
     ]
    }
   ],
   "source": [
    "pred = predict(my_tree, test_set)\n",
    "count = 0\n",
    "for i in range(len(pred)):\n",
    "    if(test_set.iloc[i]['y']== pred[i]):\n",
    "        count += 1\n",
    "print(count/len(pred))"
   ]
  },
  {
   "cell_type": "code",
   "execution_count": 17,
   "metadata": {},
   "outputs": [],
   "source": [
    "# QUESTION 2"
   ]
  },
  {
   "cell_type": "code",
   "execution_count": 18,
   "metadata": {},
   "outputs": [
    {
     "data": {
      "text/html": [
       "<div>\n",
       "<style scoped>\n",
       "    .dataframe tbody tr th:only-of-type {\n",
       "        vertical-align: middle;\n",
       "    }\n",
       "\n",
       "    .dataframe tbody tr th {\n",
       "        vertical-align: top;\n",
       "    }\n",
       "\n",
       "    .dataframe thead th {\n",
       "        text-align: right;\n",
       "    }\n",
       "</style>\n",
       "<table border=\"1\" class=\"dataframe\">\n",
       "  <thead>\n",
       "    <tr style=\"text-align: right;\">\n",
       "      <th></th>\n",
       "      <th>x1</th>\n",
       "      <th>x2</th>\n",
       "      <th>y</th>\n",
       "    </tr>\n",
       "  </thead>\n",
       "  <tbody>\n",
       "    <tr>\n",
       "      <td>0</td>\n",
       "      <td>1</td>\n",
       "      <td>1</td>\n",
       "      <td>0</td>\n",
       "    </tr>\n",
       "    <tr>\n",
       "      <td>1</td>\n",
       "      <td>1</td>\n",
       "      <td>2</td>\n",
       "      <td>1</td>\n",
       "    </tr>\n",
       "    <tr>\n",
       "      <td>2</td>\n",
       "      <td>2</td>\n",
       "      <td>1</td>\n",
       "      <td>1</td>\n",
       "    </tr>\n",
       "    <tr>\n",
       "      <td>3</td>\n",
       "      <td>2</td>\n",
       "      <td>2</td>\n",
       "      <td>0</td>\n",
       "    </tr>\n",
       "  </tbody>\n",
       "</table>\n",
       "</div>"
      ],
      "text/plain": [
       "   x1  x2  y\n",
       "0   1   1  0\n",
       "1   1   2  1\n",
       "2   2   1  1\n",
       "3   2   2  0"
      ]
     },
     "execution_count": 18,
     "metadata": {},
     "output_type": "execute_result"
    }
   ],
   "source": [
    "sample = pd.DataFrame({\"x1\":[1,1,2,2], \"x2\":[1,2,1,2],\"y\":[0,1,1,0] })\n",
    "sample"
   ]
  },
  {
   "cell_type": "code",
   "execution_count": 19,
   "metadata": {},
   "outputs": [
    {
     "data": {
      "image/png": "[encoded data removed]",
      "text/plain": [
       "<Figure size 432x288 with 1 Axes>"
      ]
     },
     "metadata": {
      "needs_background": "light"
     },
     "output_type": "display_data"
    }
   ],
   "source": [
    "fig, ax = plt.subplots()\n",
    "scatter1 = ax.scatter([1,2],[1,2],label = '0', color = 'blue')\n",
    "scatter1 = ax.scatter([1,2],[2,1], label = '1',color = 'red')\n",
    "plt.title('sample dataset')\n",
    "plt.xlabel('x1')\n",
    "plt.ylabel('x2')\n",
    "ax.legend()\n",
    "plt.savefig('question2.pdf')"
   ]
  },
  {
   "cell_type": "code",
   "execution_count": 20,
   "metadata": {},
   "outputs": [],
   "source": [
    "q2_tree = build_tree(sample)"
   ]
  },
  {
   "cell_type": "code",
   "execution_count": 21,
   "metadata": {},
   "outputs": [
    {
     "data": {
      "text/html": [
       "<div>\n",
       "<style scoped>\n",
       "    .dataframe tbody tr th:only-of-type {\n",
       "        vertical-align: middle;\n",
       "    }\n",
       "\n",
       "    .dataframe tbody tr th {\n",
       "        vertical-align: top;\n",
       "    }\n",
       "\n",
       "    .dataframe thead th {\n",
       "        text-align: right;\n",
       "    }\n",
       "</style>\n",
       "<table border=\"1\" class=\"dataframe\">\n",
       "  <thead>\n",
       "    <tr style=\"text-align: right;\">\n",
       "      <th></th>\n",
       "      <th>x1</th>\n",
       "      <th>x2</th>\n",
       "      <th>y</th>\n",
       "    </tr>\n",
       "  </thead>\n",
       "  <tbody>\n",
       "    <tr>\n",
       "      <td>0</td>\n",
       "      <td>1</td>\n",
       "      <td>1</td>\n",
       "      <td>0</td>\n",
       "    </tr>\n",
       "    <tr>\n",
       "      <td>1</td>\n",
       "      <td>1</td>\n",
       "      <td>2</td>\n",
       "      <td>1</td>\n",
       "    </tr>\n",
       "  </tbody>\n",
       "</table>\n",
       "</div>"
      ],
      "text/plain": [
       "   x1  x2  y\n",
       "0   1   1  0\n",
       "1   1   2  1"
      ]
     },
     "execution_count": 21,
     "metadata": {},
     "output_type": "execute_result"
    }
   ],
   "source": [
    "force_partition = sample.iloc[[0,1]]\n",
    "force_partition"
   ]
  },
  {
   "cell_type": "code",
   "execution_count": 22,
   "metadata": {},
   "outputs": [],
   "source": [
    "q2_test_tree = build_tree(force_partition)"
   ]
  },
  {
   "cell_type": "code",
   "execution_count": 23,
   "metadata": {},
   "outputs": [],
   "source": [
    "# QUESTION 3"
   ]
  },
  {
   "cell_type": "code",
   "execution_count": 24,
   "metadata": {},
   "outputs": [],
   "source": [
    "druns = read_txt(\"Druns.txt\")"
   ]
  },
  {
   "cell_type": "code",
   "execution_count": 25,
   "metadata": {},
   "outputs": [],
   "source": [
    "def q3_find_best_threshold(data):\n",
    "    question3_dic = dict();\n",
    "    threshold = 0\n",
    "    feature = None\n",
    "    features = list(data.drop(['y'],axis = 1).columns)\n",
    "    for f in features:\n",
    "        sorted_data = data.sort_values(by=[f])\n",
    "        for r in range(len(sorted_data)):  # start from 1 to avoid having empty left dataset\n",
    "            key = f+\" >= \"+str(sorted_data.iloc[r][f])\n",
    "            gain = info_gain(data, sorted_data.iloc[r][f], f)\n",
    "            question3_dic.update({key: round(gain,4)})\n",
    "    return question3_dic"
   ]
  },
  {
   "cell_type": "code",
   "execution_count": 26,
   "metadata": {},
   "outputs": [
    {
     "data": {
      "text/plain": [
       "{'x1 >= 0.0': 0.0,\n",
       " 'x1 >= 0.1': 0.0442,\n",
       " 'x2 >= -2.0': 0.0,\n",
       " 'x2 >= -1.0': 0.0442,\n",
       " 'x2 >= 0.0': 0.0383,\n",
       " 'x2 >= 1.0': 0.0049,\n",
       " 'x2 >= 2.0': 0.0011,\n",
       " 'x2 >= 3.0': 0.0163,\n",
       " 'x2 >= 4.0': 0.0495,\n",
       " 'x2 >= 5.0': 0.1052,\n",
       " 'x2 >= 6.0': 0.1996,\n",
       " 'x2 >= 7.0': 0.0383,\n",
       " 'x2 >= 8.0': 0.1891}"
      ]
     },
     "execution_count": 26,
     "metadata": {},
     "output_type": "execute_result"
    }
   ],
   "source": [
    "q3_find_best_threshold(druns)"
   ]
  },
  {
   "cell_type": "code",
   "execution_count": 27,
   "metadata": {},
   "outputs": [
    {
     "data": {
      "text/html": [
       "<div>\n",
       "<style scoped>\n",
       "    .dataframe tbody tr th:only-of-type {\n",
       "        vertical-align: middle;\n",
       "    }\n",
       "\n",
       "    .dataframe tbody tr th {\n",
       "        vertical-align: top;\n",
       "    }\n",
       "\n",
       "    .dataframe thead th {\n",
       "        text-align: right;\n",
       "    }\n",
       "</style>\n",
       "<table border=\"1\" class=\"dataframe\">\n",
       "  <thead>\n",
       "    <tr style=\"text-align: right;\">\n",
       "      <th></th>\n",
       "      <th>x1</th>\n",
       "      <th>x2</th>\n",
       "      <th>y</th>\n",
       "    </tr>\n",
       "  </thead>\n",
       "  <tbody>\n",
       "    <tr>\n",
       "      <td>0</td>\n",
       "      <td>0.1</td>\n",
       "      <td>-2</td>\n",
       "      <td>0</td>\n",
       "    </tr>\n",
       "    <tr>\n",
       "      <td>1</td>\n",
       "      <td>0.0</td>\n",
       "      <td>-1</td>\n",
       "      <td>1</td>\n",
       "    </tr>\n",
       "    <tr>\n",
       "      <td>2</td>\n",
       "      <td>0.0</td>\n",
       "      <td>0</td>\n",
       "      <td>0</td>\n",
       "    </tr>\n",
       "    <tr>\n",
       "      <td>3</td>\n",
       "      <td>0.0</td>\n",
       "      <td>1</td>\n",
       "      <td>0</td>\n",
       "    </tr>\n",
       "    <tr>\n",
       "      <td>4</td>\n",
       "      <td>0.0</td>\n",
       "      <td>2</td>\n",
       "      <td>0</td>\n",
       "    </tr>\n",
       "    <tr>\n",
       "      <td>5</td>\n",
       "      <td>0.0</td>\n",
       "      <td>3</td>\n",
       "      <td>0</td>\n",
       "    </tr>\n",
       "    <tr>\n",
       "      <td>6</td>\n",
       "      <td>0.0</td>\n",
       "      <td>4</td>\n",
       "      <td>0</td>\n",
       "    </tr>\n",
       "    <tr>\n",
       "      <td>7</td>\n",
       "      <td>0.0</td>\n",
       "      <td>5</td>\n",
       "      <td>0</td>\n",
       "    </tr>\n",
       "    <tr>\n",
       "      <td>8</td>\n",
       "      <td>0.0</td>\n",
       "      <td>6</td>\n",
       "      <td>1</td>\n",
       "    </tr>\n",
       "    <tr>\n",
       "      <td>9</td>\n",
       "      <td>0.0</td>\n",
       "      <td>7</td>\n",
       "      <td>0</td>\n",
       "    </tr>\n",
       "    <tr>\n",
       "      <td>10</td>\n",
       "      <td>0.0</td>\n",
       "      <td>8</td>\n",
       "      <td>1</td>\n",
       "    </tr>\n",
       "  </tbody>\n",
       "</table>\n",
       "</div>"
      ],
      "text/plain": [
       "     x1  x2  y\n",
       "0   0.1  -2  0\n",
       "1   0.0  -1  1\n",
       "2   0.0   0  0\n",
       "3   0.0   1  0\n",
       "4   0.0   2  0\n",
       "5   0.0   3  0\n",
       "6   0.0   4  0\n",
       "7   0.0   5  0\n",
       "8   0.0   6  1\n",
       "9   0.0   7  0\n",
       "10  0.0   8  1"
      ]
     },
     "execution_count": 27,
     "metadata": {},
     "output_type": "execute_result"
    }
   ],
   "source": [
    "druns"
   ]
  },
  {
   "cell_type": "code",
   "execution_count": 28,
   "metadata": {},
   "outputs": [],
   "source": [
    "# QUESTION 4"
   ]
  },
  {
   "cell_type": "code",
   "execution_count": 29,
   "metadata": {},
   "outputs": [],
   "source": [
    "D3 = read_txt(\"D3leaves.txt\")"
   ]
  },
  {
   "cell_type": "code",
   "execution_count": 30,
   "metadata": {},
   "outputs": [],
   "source": [
    "q4_tree = build_tree(D3)"
   ]
  },
  {
   "cell_type": "code",
   "execution_count": 31,
   "metadata": {},
   "outputs": [
    {
     "name": "stdout",
     "output_type": "stream",
     "text": [
      "x1 >= 10?\n",
      "Then:\n",
      "  |Predict  1\n",
      "Else:\n",
      "  |x2 >= 3?\n",
      "  |Then:\n",
      "  |  |Predict  1\n",
      "  |Else:\n",
      "  |  |Predict  0\n"
     ]
    }
   ],
   "source": [
    "print_tree(q4_tree)"
   ]
  },
  {
   "cell_type": "code",
   "execution_count": 32,
   "metadata": {},
   "outputs": [],
   "source": [
    "# QUESTION 5"
   ]
  },
  {
   "cell_type": "code",
   "execution_count": 33,
   "metadata": {},
   "outputs": [],
   "source": [
    "D1 = read_txt(\"D1.txt\")"
   ]
  },
  {
   "cell_type": "code",
   "execution_count": 34,
   "metadata": {},
   "outputs": [],
   "source": [
    "q5_tree1 = build_tree(D1)"
   ]
  },
  {
   "cell_type": "code",
   "execution_count": 35,
   "metadata": {},
   "outputs": [
    {
     "name": "stdout",
     "output_type": "stream",
     "text": [
      "x2 >= 0.201829?\n",
      "Then:\n",
      "  |Predict  1\n",
      "Else:\n",
      "  |Predict  0\n"
     ]
    }
   ],
   "source": [
    "print_tree(q5_tree1)"
   ]
  },
  {
   "cell_type": "code",
   "execution_count": 36,
   "metadata": {},
   "outputs": [],
   "source": [
    "D2 = read_txt(\"D2.txt\")"
   ]
  },
  {
   "cell_type": "code",
   "execution_count": 37,
   "metadata": {},
   "outputs": [],
   "source": [
    "q5_tree2 = build_tree(D2)"
   ]
  },
  {
   "cell_type": "code",
   "execution_count": 38,
   "metadata": {},
   "outputs": [
    {
     "name": "stdout",
     "output_type": "stream",
     "text": [
      "x1 >= 0.533076?\n",
      "Then:\n",
      "  |x2 >= 0.383738?\n",
      "  |Then:\n",
      "  |  |x1 >= 0.5503640000000001?\n",
      "  |  |Then:\n",
      "  |  |  |Predict  1\n",
      "  |  |Else:\n",
      "  |  |  |x2 >= 0.474971?\n",
      "  |  |  |Then:\n",
      "  |  |  |  |Predict  1\n",
      "  |  |  |Else:\n",
      "  |  |  |  |Predict  0\n",
      "  |Else:\n",
      "  |  |x1 >= 0.761423?\n",
      "  |  |Then:\n",
      "  |  |  |x2 >= 0.191206?\n",
      "  |  |  |Then:\n",
      "  |  |  |  |Predict  1\n",
      "  |  |  |Else:\n",
      "  |  |  |  |x1 >= 0.9048200000000001?\n",
      "  |  |  |  |Then:\n",
      "  |  |  |  |  |x2 >= 0.037708?\n",
      "  |  |  |  |  |Then:\n",
      "  |  |  |  |  |  |x1 >= 0.930371?\n",
      "  |  |  |  |  |  |Then:\n",
      "  |  |  |  |  |  |  |Predict  1\n",
      "  |  |  |  |  |  |Else:\n",
      "  |  |  |  |  |  |  |x1 >= 0.927522?\n",
      "  |  |  |  |  |  |  |Then:\n",
      "  |  |  |  |  |  |  |  |Predict  0\n",
      "  |  |  |  |  |  |  |Else:\n",
      "  |  |  |  |  |  |  |  |Predict  1\n",
      "  |  |  |  |  |Else:\n",
      "  |  |  |  |  |  |Predict  0\n",
      "  |  |  |  |Else:\n",
      "  |  |  |  |  |x2 >= 0.169053?\n",
      "  |  |  |  |  |Then:\n",
      "  |  |  |  |  |  |x1 >= 0.850316?\n",
      "  |  |  |  |  |  |Then:\n",
      "  |  |  |  |  |  |  |Predict  1\n",
      "  |  |  |  |  |  |Else:\n",
      "  |  |  |  |  |  |  |Predict  0\n",
      "  |  |  |  |  |Else:\n",
      "  |  |  |  |  |  |Predict  0\n",
      "  |  |Else:\n",
      "  |  |  |x2 >= 0.301105?\n",
      "  |  |  |Then:\n",
      "  |  |  |  |x1 >= 0.66337?\n",
      "  |  |  |  |Then:\n",
      "  |  |  |  |  |Predict  1\n",
      "  |  |  |  |Else:\n",
      "  |  |  |  |  |Predict  0\n",
      "  |  |  |Else:\n",
      "  |  |  |  |Predict  0\n",
      "Else:\n",
      "  |x2 >= 0.639018?\n",
      "  |Then:\n",
      "  |  |x1 >= 0.111076?\n",
      "  |  |Then:\n",
      "  |  |  |x2 >= 0.861?\n",
      "  |  |  |Then:\n",
      "  |  |  |  |Predict  1\n",
      "  |  |  |Else:\n",
      "  |  |  |  |x1 >= 0.33046?\n",
      "  |  |  |  |Then:\n",
      "  |  |  |  |  |Predict  1\n",
      "  |  |  |  |Else:\n",
      "  |  |  |  |  |x2 >= 0.745406?\n",
      "  |  |  |  |  |Then:\n",
      "  |  |  |  |  |  |x1 >= 0.25404899999999997?\n",
      "  |  |  |  |  |  |Then:\n",
      "  |  |  |  |  |  |  |Predict  1\n",
      "  |  |  |  |  |  |Else:\n",
      "  |  |  |  |  |  |  |x1 >= 0.191915?\n",
      "  |  |  |  |  |  |  |Then:\n",
      "  |  |  |  |  |  |  |  |x2 >= 0.792752?\n",
      "  |  |  |  |  |  |  |  |Then:\n",
      "  |  |  |  |  |  |  |  |  |Predict  1\n",
      "  |  |  |  |  |  |  |  |Else:\n",
      "  |  |  |  |  |  |  |  |  |Predict  0\n",
      "  |  |  |  |  |  |  |Else:\n",
      "  |  |  |  |  |  |  |  |Predict  0\n",
      "  |  |  |  |  |Else:\n",
      "  |  |  |  |  |  |Predict  0\n",
      "  |  |Else:\n",
      "  |  |  |x2 >= 0.964767?\n",
      "  |  |  |Then:\n",
      "  |  |  |  |Predict  1\n",
      "  |  |  |Else:\n",
      "  |  |  |  |Predict  0\n",
      "  |Else:\n",
      "  |  |x2 >= 0.534979?\n",
      "  |  |Then:\n",
      "  |  |  |x1 >= 0.409972?\n",
      "  |  |  |Then:\n",
      "  |  |  |  |x1 >= 0.426073?\n",
      "  |  |  |  |Then:\n",
      "  |  |  |  |  |Predict  1\n",
      "  |  |  |  |Else:\n",
      "  |  |  |  |  |x1 >= 0.417579?\n",
      "  |  |  |  |  |Then:\n",
      "  |  |  |  |  |  |Predict  0\n",
      "  |  |  |  |  |Else:\n",
      "  |  |  |  |  |  |Predict  1\n",
      "  |  |  |Else:\n",
      "  |  |  |  |Predict  0\n",
      "  |  |Else:\n",
      "  |  |  |Predict  0\n"
     ]
    }
   ],
   "source": [
    "print_tree(q5_tree2)"
   ]
  },
  {
   "cell_type": "code",
   "execution_count": 39,
   "metadata": {},
   "outputs": [],
   "source": [
    "# QUESTION 6"
   ]
  },
  {
   "cell_type": "code",
   "execution_count": 40,
   "metadata": {},
   "outputs": [],
   "source": [
    "def print_boundry(stump, fig,ax,x1min,x1max,x2min,x2max):\n",
    "    \"\"\"World's most elegant tree printing function.\"\"\"\n",
    "#     ax.hlines(y = x2min, xmin = x1min, xmax = x1max,color='black')\n",
    "#     ax.hlines(y = x2max, xmin = x1min, xmax = x1max,color='black')\n",
    "#     ax.vlines(x=x1min, ymin=x2min, ymax=x2max,color='black')\n",
    "#     ax.vlines(x=x1max, ymin=x2min, ymax=x2max,color='black')\n",
    "    # Base case: we've reached a leaf\n",
    "    if isinstance(stump, Leaf):\n",
    "        ax.hlines(y = x2min, xmin = x1min, xmax = x1max,color='black')\n",
    "        ax.hlines(y = x2max, xmin = x1min, xmax = x1max,color='black')\n",
    "        ax.vlines(x=x1min, ymin=x2min, ymax=x2max,color='black')\n",
    "        ax.vlines(x=x1max, ymin=x2min, ymax=x2max,color='black')\n",
    "        return ax\n",
    "\n",
    "    # Call this function recursively on the true branch\n",
    "    if stump.feature == 'x1':\n",
    "        print_boundry(stump.left_branch, fig,ax,stump.threshold,x1max,x2min,x2max)\n",
    "    elif stump.feature == 'x2':\n",
    "        print_boundry(stump.left_branch, fig,ax,x1min,x1max,stump.threshold,x2max)\n",
    "\n",
    "    # Call this function recursively on the false branch\n",
    "    if stump.feature == 'x1':\n",
    "        print_boundry(stump.right_branch, fig,ax,x1min,stump.threshold,x2min,x2max)\n",
    "    elif stump.feature == 'x2':\n",
    "        print_boundry(stump.right_branch, fig,ax,x1min,x1max,x2min,stump.threshold)\n",
    "        \n",
    "    return ax"
   ]
  },
  {
   "cell_type": "code",
   "execution_count": 41,
   "metadata": {},
   "outputs": [
    {
     "data": {
      "image/png": "[encoded data removed]",
      "text/plain": [
       "<Figure size 432x288 with 1 Axes>"
      ]
     },
     "metadata": {
      "needs_background": "light"
     },
     "output_type": "display_data"
    }
   ],
   "source": [
    "pred1 = predict(q5_tree1,D1)\n",
    "x10 = []\n",
    "x20 =[]\n",
    "x11 =[]\n",
    "x21 = []\n",
    "for i in range(len(pred1)):\n",
    "    if pred1[i] == 0:\n",
    "        x10.append(D1.iloc[i].x1)\n",
    "        x20.append(D1.iloc[i].x2)\n",
    "    else:\n",
    "        x11.append(D1.iloc[i].x1)\n",
    "        x21.append(D1.iloc[i].x2)   \n",
    "fig,ax = plt.subplots()\n",
    "scatter1 = ax.scatter(x10,x20, label = '0', color = 'blue')\n",
    "scatter1 = ax.scatter(x11,x21, label = '1',color = 'red')\n",
    "plt.title('D1')\n",
    "plt.xlabel('x1')\n",
    "plt.ylabel('x2')\n",
    "ax.legend()\n",
    "ax = print_boundry(q5_tree1,fig,ax,min(D1.x1),max(D1.x1),min(D1.x2),max(D1.x2))\n",
    "plt.savefig(\"question6_1.pdf\")"
   ]
  },
  {
   "cell_type": "code",
   "execution_count": 42,
   "metadata": {},
   "outputs": [
    {
     "data": {
      "image/png": "[encoded data removed]",
      "text/plain": [
       "<Figure size 432x288 with 1 Axes>"
      ]
     },
     "metadata": {
      "needs_background": "light"
     },
     "output_type": "display_data"
    }
   ],
   "source": [
    "pred2 = predict(q5_tree2,D2)\n",
    "x10 = []\n",
    "x20 =[]\n",
    "x11 =[]\n",
    "x21 = []\n",
    "for i in range(len(pred1)):\n",
    "    if pred2[i] == 0:\n",
    "        x10.append(D2.iloc[i].x1)\n",
    "        x20.append(D2.iloc[i].x2)\n",
    "    else:\n",
    "        x11.append(D2.iloc[i].x1)\n",
    "        x21.append(D2.iloc[i].x2)   \n",
    "fig,ax = plt.subplots()\n",
    "scatter1 = ax.scatter(x10,x20, label = '0', color = 'blue')\n",
    "scatter1 = ax.scatter(x11,x21, label = '1',color = 'red')\n",
    "plt.title('D2')\n",
    "plt.xlabel('x1')\n",
    "plt.ylabel('x2')\n",
    "ax.legend()\n",
    "ax = print_boundry(q5_tree2,fig,ax,min(D2.x1),max(D2.x1),min(D2.x2),max(D2.x2))\n",
    "# plt.savefig(\"question6_1.pdf\")\n",
    "plt.savefig('question6_2.pdf')"
   ]
  },
  {
   "cell_type": "code",
   "execution_count": 43,
   "metadata": {},
   "outputs": [
    {
     "data": {
      "image/png": "[encoded data removed]",
      "text/plain": [
       "<Figure size 432x288 with 1 Axes>"
      ]
     },
     "metadata": {
      "needs_background": "light"
     },
     "output_type": "display_data"
    }
   ],
   "source": [
    "fig,ax = plt.subplots()\n",
    "# f, (ax1, ax2) = plt.subplots(1, 2, sharey=True)\n",
    "scatter1 = ax.scatter(x10,x20, label = '0', color = 'blue')\n",
    "scatter2 = ax.scatter(x11,x21, label = '1',color = 'red')\n",
    "ax = print_boundry(q5_tree2,fig,ax,min(D1.x1),max(D1.x1),min(D1.x2),max(D1.x2))\n",
    "plt.savefig(\"question6_2.pdf\")"
   ]
  },
  {
   "cell_type": "code",
   "execution_count": 44,
   "metadata": {},
   "outputs": [],
   "source": [
    "# QUESTION 7"
   ]
  },
  {
   "cell_type": "code",
   "execution_count": 45,
   "metadata": {},
   "outputs": [],
   "source": [
    "Dbig = read_txt(\"Dbig.txt\")"
   ]
  },
  {
   "cell_type": "code",
   "execution_count": 46,
   "metadata": {},
   "outputs": [],
   "source": [
    "D8192 = Dbig.sample(8192)\n",
    "test_set = pd.concat([D8192,Dbig]).drop_duplicates(keep = False)\n",
    "D32 = D8192.iloc[:32]\n",
    "D128 = D8192.iloc[:128]\n",
    "D512 = D8192.iloc[:512]\n",
    "D2048 = D8192.iloc[:2048]"
   ]
  },
  {
   "cell_type": "code",
   "execution_count": 47,
   "metadata": {},
   "outputs": [
    {
     "data": {
      "text/plain": [
       "55"
      ]
     },
     "execution_count": 47,
     "metadata": {},
     "output_type": "execute_result"
    }
   ],
   "source": [
    "def tree_traversal(stump):\n",
    "    cnt = 1\n",
    "    # Base case: we've reached a leaf\n",
    "    if isinstance(stump, Leaf):\n",
    "        return 1\n",
    "\n",
    "    # Call this function recursively on the true branch\n",
    "    cnt += tree_traversal(stump.left_branch)\n",
    "\n",
    "    # Call this function recursively on the false branch\n",
    "    cnt += tree_traversal(stump.right_branch)\n",
    "    \n",
    "    return cnt\n",
    "\n",
    "tree_traversal(q5_tree2)\n"
   ]
  },
  {
   "cell_type": "code",
   "execution_count": 48,
   "metadata": {},
   "outputs": [],
   "source": [
    "tree32 = build_tree(D32)"
   ]
  },
  {
   "cell_type": "code",
   "execution_count": 49,
   "metadata": {},
   "outputs": [
    {
     "data": {
      "text/plain": [
       "0.7798672566371682"
      ]
     },
     "execution_count": 49,
     "metadata": {},
     "output_type": "execute_result"
    }
   ],
   "source": [
    "evaluate(tree32,test_set)"
   ]
  },
  {
   "cell_type": "code",
   "execution_count": 50,
   "metadata": {},
   "outputs": [
    {
     "data": {
      "text/plain": [
       "7"
      ]
     },
     "execution_count": 50,
     "metadata": {},
     "output_type": "execute_result"
    }
   ],
   "source": [
    "tree_traversal(tree32)"
   ]
  },
  {
   "cell_type": "code",
   "execution_count": 51,
   "metadata": {},
   "outputs": [
    {
     "name": "stdout",
     "output_type": "stream",
     "text": [
      "size 32: 0.7798672566371682\n",
      "size 128: 0.9137168141592921\n",
      "size 512: 0.9518805309734514\n",
      "size 2048: 0.9679203539823009\n",
      "size 8192: 0.9861725663716814\n"
     ]
    }
   ],
   "source": [
    "sizes = [32,128,512,2048,8192]\n",
    "data = [D32,D128,D512,D2048,D8192]\n",
    "err = []\n",
    "n_nodes = []\n",
    "trees = []\n",
    "for i in range(len(sizes)):\n",
    "    tree = build_tree(data[i])\n",
    "    score = evaluate(tree, test_set)\n",
    "    print(\"size \"+str(sizes[i]) + \": \" + str(score))\n",
    "    err.append(score)\n",
    "    n_nodes.append(tree_traversal(tree))\n",
    "    trees.append(tree)"
   ]
  },
  {
   "cell_type": "code",
   "execution_count": 52,
   "metadata": {},
   "outputs": [
    {
     "name": "stdout",
     "output_type": "stream",
     "text": [
      "[0.7798672566371682, 0.9137168141592921, 0.9518805309734514, 0.9679203539823009, 0.9861725663716814]\n"
     ]
    }
   ],
   "source": [
    "print(err)"
   ]
  },
  {
   "cell_type": "code",
   "execution_count": 53,
   "metadata": {},
   "outputs": [
    {
     "name": "stdout",
     "output_type": "stream",
     "text": [
      "Nodes number\n",
      "D32: 7\n",
      "D128: 19\n",
      "D512: 41\n",
      "D2048: 107\n",
      "D8192: 215\n"
     ]
    }
   ],
   "source": [
    "print(\"Nodes number\")\n",
    "for i in range(len(n_nodes)):\n",
    "    print('D'+str(sizes[i]) +\": \" +str(n_nodes[i]))"
   ]
  },
  {
   "cell_type": "code",
   "execution_count": 54,
   "metadata": {},
   "outputs": [
    {
     "name": "stdout",
     "output_type": "stream",
     "text": [
      "Errors\n",
      "D32: 0.22013274336283184\n",
      "D128: 0.08628318584070793\n",
      "D512: 0.04811946902654862\n",
      "D2048: 0.03207964601769908\n",
      "D8192: 0.01382743362831862\n"
     ]
    }
   ],
   "source": [
    "print(\"Errors\")\n",
    "for i in range(len(err)):\n",
    "    print('D'+str(sizes[i]) +\": \" + str(1 - err[i]))"
   ]
  },
  {
   "cell_type": "code",
   "execution_count": 55,
   "metadata": {},
   "outputs": [
    {
     "name": "stdout",
     "output_type": "stream",
     "text": [
      "x2 >= -0.128511?\n",
      "Then:\n",
      "  |x1 >= 1.157422?\n",
      "  |Then:\n",
      "  |  |Predict  1\n",
      "  |Else:\n",
      "  |  |x1 >= -0.9113760000000001?\n",
      "  |  |Then:\n",
      "  |  |  |Predict  0\n",
      "  |  |Else:\n",
      "  |  |  |Predict  1\n",
      "Else:\n",
      "  |Predict  1\n"
     ]
    }
   ],
   "source": [
    "print_tree(trees[0])"
   ]
  },
  {
   "cell_type": "code",
   "execution_count": 56,
   "metadata": {},
   "outputs": [
    {
     "data": {
      "image/png": "[encoded data removed]",
      "text/plain": [
       "<Figure size 432x288 with 1 Axes>"
      ]
     },
     "metadata": {
      "needs_background": "light"
     },
     "output_type": "display_data"
    }
   ],
   "source": [
    "test_err = [(1-o) for o in err]\n",
    "plt.plot(sizes,test_err)\n",
    "plt.title(\"Loss curve\")\n",
    "plt.xlabel(\"dataset size\")\n",
    "plt.ylabel(\"test score\")\n",
    "plt.savefig(\"loss_curve.pdf\")"
   ]
  },
  {
   "cell_type": "code",
   "execution_count": 57,
   "metadata": {},
   "outputs": [
    {
     "data": {
      "image/png": "[encoded data removed]",
      "text/plain": [
       "<Figure size 432x288 with 1 Axes>"
      ]
     },
     "metadata": {
      "needs_background": "light"
     },
     "output_type": "display_data"
    }
   ],
   "source": [
    "pred32 = predict(trees[0],D32)\n",
    "x10 = []\n",
    "x20 =[]\n",
    "x11 =[]\n",
    "x21 = []\n",
    "for i in range(len(pred32)):\n",
    "    if pred32[i] == 0:\n",
    "        x10.append(D32.iloc[i].x1)\n",
    "        x20.append(D32.iloc[i].x2)\n",
    "    else:\n",
    "        x11.append(D32.iloc[i].x1)\n",
    "        x21.append(D32.iloc[i].x2)   \n",
    "fig,ax = plt.subplots()\n",
    "scatter1 = ax.scatter(x10,x20, label = '0', color = 'blue')\n",
    "scatter1 = ax.scatter(x11,x21, label = '1',color = 'red')\n",
    "plt.title('D32')\n",
    "plt.xlabel('x1')\n",
    "plt.ylabel('x2')\n",
    "ax.legend()\n",
    "ax = print_boundry(trees[0],fig,ax,min(D32.x1),max(D32.x1),min(D32.x2),max(D32.x2))\n",
    "plt.savefig(\"question7_D32.pdf\")"
   ]
  },
  {
   "cell_type": "code",
   "execution_count": 58,
   "metadata": {},
   "outputs": [
    {
     "data": {
      "image/png": "[encoded data removed]",
      "text/plain": [
       "<Figure size 432x288 with 1 Axes>"
      ]
     },
     "metadata": {
      "needs_background": "light"
     },
     "output_type": "display_data"
    }
   ],
   "source": [
    "pred128 = predict(trees[1],D128)\n",
    "x10 = []\n",
    "x20 =[]\n",
    "x11 =[]\n",
    "x21 = []\n",
    "for i in range(len(pred128)):\n",
    "    if pred128[i] == 0:\n",
    "        x10.append(D128.iloc[i].x1)\n",
    "        x20.append(D128.iloc[i].x2)\n",
    "    else:\n",
    "        x11.append(D128.iloc[i].x1)\n",
    "        x21.append(D128.iloc[i].x2)   \n",
    "fig,ax = plt.subplots()\n",
    "scatter1 = ax.scatter(x10,x20, label = '0', color = 'blue')\n",
    "scatter1 = ax.scatter(x11,x21, label = '1',color = 'red')\n",
    "plt.title('D128')\n",
    "plt.xlabel('x1')\n",
    "plt.ylabel('x2')\n",
    "ax.legend()\n",
    "ax = print_boundry(trees[1],fig,ax,min(D128.x1),max(D128.x1),min(D128.x2),max(D128.x2))\n",
    "plt.savefig(\"question7_D128.pdf\")"
   ]
  },
  {
   "cell_type": "code",
   "execution_count": 59,
   "metadata": {},
   "outputs": [
    {
     "data": {
      "image/png": "[encoded data removed]",
      "text/plain": [
       "<Figure size 432x288 with 1 Axes>"
      ]
     },
     "metadata": {
      "needs_background": "light"
     },
     "output_type": "display_data"
    }
   ],
   "source": [
    "pred512 = predict(trees[2],D512)\n",
    "x10 = []\n",
    "x20 =[]\n",
    "x11 =[]\n",
    "x21 = []\n",
    "for i in range(len(pred512)):\n",
    "    if pred512[i] == 0:\n",
    "        x10.append(D512.iloc[i].x1)\n",
    "        x20.append(D512.iloc[i].x2)\n",
    "    else:\n",
    "        x11.append(D512.iloc[i].x1)\n",
    "        x21.append(D512.iloc[i].x2)   \n",
    "fig,ax = plt.subplots()\n",
    "scatter1 = ax.scatter(x10,x20, label = '0', color = 'blue')\n",
    "scatter1 = ax.scatter(x11,x21, label = '1',color = 'red')\n",
    "plt.title('D512')\n",
    "plt.xlabel('x1')\n",
    "plt.ylabel('x2')\n",
    "ax.legend()\n",
    "ax = print_boundry(trees[2],fig,ax,min(D512.x1),max(D512.x1),min(D512.x2),max(D512.x2))\n",
    "plt.savefig(\"question7_D512.pdf\")"
   ]
  },
  {
   "cell_type": "code",
   "execution_count": 60,
   "metadata": {},
   "outputs": [
    {
     "data": {
      "image/png": "[encoded data removed]",
      "text/plain": [
       "<Figure size 432x288 with 1 Axes>"
      ]
     },
     "metadata": {
      "needs_background": "light"
     },
     "output_type": "display_data"
    }
   ],
   "source": [
    "pred2048 = predict(trees[3],D2048)\n",
    "x10 = []\n",
    "x20 =[]\n",
    "x11 =[]\n",
    "x21 = []\n",
    "for i in range(len(pred2048)):\n",
    "    if pred2048[i] == 0:\n",
    "        x10.append(D2048.iloc[i].x1)\n",
    "        x20.append(D2048.iloc[i].x2)\n",
    "    else:\n",
    "        x11.append(D2048.iloc[i].x1)\n",
    "        x21.append(D2048.iloc[i].x2)   \n",
    "fig,ax = plt.subplots()\n",
    "scatter1 = ax.scatter(x10,x20, label = '0', color = 'blue')\n",
    "scatter1 = ax.scatter(x11,x21, label = '1',color = 'red')\n",
    "plt.title('D2048')\n",
    "plt.xlabel('x1')\n",
    "plt.ylabel('x2')\n",
    "ax.legend()\n",
    "ax = print_boundry(trees[3],fig,ax,min(D2048.x1),max(D2048.x1),min(D2048.x2),max(D2048.x2))\n",
    "plt.savefig(\"question7_D2048.pdf\")"
   ]
  },
  {
   "cell_type": "code",
   "execution_count": 61,
   "metadata": {},
   "outputs": [
    {
     "data": {
      "image/png": "[encoded data removed]",
      "text/plain": [
       "<Figure size 432x288 with 1 Axes>"
      ]
     },
     "metadata": {
      "needs_background": "light"
     },
     "output_type": "display_data"
    }
   ],
   "source": [
    "pred8192 = predict(trees[4],D8192)\n",
    "x10 = []\n",
    "x20 =[]\n",
    "x11 =[]\n",
    "x21 = []\n",
    "for i in range(len(pred8192)):\n",
    "    if pred8192[i] == 0:\n",
    "        x10.append(D8192.iloc[i].x1)\n",
    "        x20.append(D8192.iloc[i].x2)\n",
    "    else:\n",
    "        x11.append(D8192.iloc[i].x1)\n",
    "        x21.append(D8192.iloc[i].x2)   \n",
    "fig,ax = plt.subplots()\n",
    "scatter1 = ax.scatter(x10,x20, label = '0', color = 'blue')\n",
    "scatter1 = ax.scatter(x11,x21, label = '1',color = 'red')\n",
    "plt.title('D8192')\n",
    "plt.xlabel('x1')\n",
    "plt.ylabel('x2')\n",
    "ax.legend()\n",
    "ax = print_boundry(trees[4],fig,ax,min(D8192.x1),max(D8192.x1),min(D8192.x2),max(D8192.x2))\n",
    "plt.savefig(\"question7_D8192.pdf\")"
   ]
  },
  {
   "cell_type": "code",
   "execution_count": 62,
   "metadata": {},
   "outputs": [
    {
     "name": "stdout",
     "output_type": "stream",
     "text": [
      "          x1        x2  catagory\n",
      "0   1.349772 -0.228994         1\n",
      "1   0.351486 -1.279773         1\n",
      "2  -0.680983  1.093539         0\n",
      "3   0.955905 -1.448380         1\n",
      "4  -0.111482  0.819126         0\n",
      "5   0.067869 -1.212585         1\n",
      "6   1.380788  0.809012         1\n",
      "7   0.852255 -0.769106         1\n",
      "8  -0.911376  0.390008         0\n",
      "9  -0.892608  0.788474         0\n",
      "10  0.624550  0.067801         0\n",
      "11 -0.377510 -1.247740         1\n",
      "12 -0.000955  0.627687         0\n",
      "13  1.158756  1.175395         1\n",
      "14 -0.608506 -1.200676         1\n",
      "15 -1.137697 -0.900590         1\n",
      "16 -1.360784  0.172235         1\n",
      "17 -1.146879 -0.516926         1\n",
      "18  1.026557 -1.282991         1\n",
      "19 -0.871590 -0.670515         1\n",
      "20 -0.680117  0.408497         0\n",
      "21 -1.034314 -0.020113         1\n",
      "22  0.891415 -0.289435         1\n",
      "23 -1.252182 -0.077625         1\n",
      "24  1.157422  0.663263         1\n",
      "25 -1.354554 -1.279875         1\n",
      "26  0.233501 -0.128511         0\n",
      "27 -1.167807 -0.914588         1\n",
      "28  0.413724 -0.743200         1\n",
      "29 -0.405466  0.315945         0\n",
      "30 -1.159750 -1.167383         1\n",
      "31  1.448969  1.453074         1\n",
      "           x1        x2  catagory\n",
      "0    1.349772 -0.228994         1\n",
      "1    0.351486 -1.279773         1\n",
      "2   -0.680983  1.093539         0\n",
      "3    0.955905 -1.448380         1\n",
      "4   -0.111482  0.819126         0\n",
      "..        ...       ...       ...\n",
      "123 -1.256319 -1.333444         1\n",
      "124  1.005559  1.057744         1\n",
      "125 -0.969406  0.148219         0\n",
      "126  0.737647 -0.231181         0\n",
      "127 -0.488563 -1.113744         1\n",
      "\n",
      "[128 rows x 3 columns]\n",
      "           x1        x2  catagory\n",
      "0    1.349772 -0.228994         1\n",
      "1    0.351486 -1.279773         1\n",
      "2   -0.680983  1.093539         0\n",
      "3    0.955905 -1.448380         1\n",
      "4   -0.111482  0.819126         0\n",
      "..        ...       ...       ...\n",
      "507 -1.337589 -0.836162         1\n",
      "508  0.957481 -1.452062         1\n",
      "509  0.032431 -0.854388         0\n",
      "510  0.563961  0.464354         0\n",
      "511  0.561500 -0.633092         1\n",
      "\n",
      "[512 rows x 3 columns]\n",
      "            x1        x2  catagory\n",
      "0     1.349772 -0.228994         1\n",
      "1     0.351486 -1.279773         1\n",
      "2    -0.680983  1.093539         0\n",
      "3     0.955905 -1.448380         1\n",
      "4    -0.111482  0.819126         0\n",
      "...        ...       ...       ...\n",
      "2043 -0.765869 -1.104435         1\n",
      "2044  0.274017 -1.417449         1\n",
      "2045 -1.186485 -1.308069         1\n",
      "2046  0.806691  1.125640         0\n",
      "2047  0.277486  0.510259         0\n",
      "\n",
      "[2048 rows x 3 columns]\n",
      "            x1        x2  catagory\n",
      "0     1.349772 -0.228994         1\n",
      "1     0.351486 -1.279773         1\n",
      "2    -0.680983  1.093539         0\n",
      "3     0.955905 -1.448380         1\n",
      "4    -0.111482  0.819126         0\n",
      "...        ...       ...       ...\n",
      "8187  1.372047  0.786120         1\n",
      "8188  1.171296  0.616280         1\n",
      "8189  0.154550 -0.631829         0\n",
      "8190 -0.580807  1.231492         0\n",
      "8191  0.531277 -0.638105         1\n",
      "\n",
      "[8192 rows x 3 columns]\n"
     ]
    }
   ],
   "source": [
    "for i in range(len(data)):\n",
    "    t_d = pd.DataFrame(data[i].reset_index(drop = True))\n",
    "    t_d = t_d.rename({'y': 'catagory'},axis = 1)#, inplace=True)\n",
    "    print(t_d)\n",
    "    t_d.to_csv(\"D\"+str(sizes[i])+\".csv\")"
   ]
  },
  {
   "cell_type": "code",
   "execution_count": 64,
   "metadata": {},
   "outputs": [
    {
     "data": {
      "image/png": "[encoded data removed]",
      "text/plain": [
       "<Figure size 432x288 with 1 Axes>"
      ]
     },
     "metadata": {
      "needs_background": "light"
     },
     "output_type": "display_data"
    }
   ],
   "source": [
    "weka_err = [0.09375, 0.085938, 0.050781, 0.03125, 0.016846]\n",
    "plt.plot(sizes,weka_err)\n",
    "plt.title(\"Weka Loss Curve\")\n",
    "plt.xlabel(\"dataset size\")\n",
    "plt.ylabel(\"test error\")\n",
    "plt.savefig(\"weka.pdf\")"
   ]
  }
 ],
 "metadata": {
  "kernelspec": {
   "display_name": "Python 3",
   "language": "python",
   "name": "python3"
  },
  "language_info": {
   "codemirror_mode": {
    "name": "ipython",
    "version": 3
   },
   "file_extension": ".py",
   "mimetype": "text/x-python",
   "name": "python",
   "nbconvert_exporter": "python",
   "pygments_lexer": "ipython3",
   "version": "3.7.4"
  }
 },
 "nbformat": 4,
 "nbformat_minor": 2
}
