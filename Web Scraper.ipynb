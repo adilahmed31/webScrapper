{
 "cells": [
  {
   "cell_type": "code",
   "execution_count": 15,
   "metadata": {},
   "outputs": [],
   "source": [
    "import requests\n",
    "import time\n",
    "from bs4 import BeautifulSoup\n",
    "import csv\n",
    "from collections import defaultdict\n",
    "import json\n",
    "import sqlite3\n",
    "from sqlite3 import Error"
   ]
  },
  {
   "cell_type": "code",
   "execution_count": 16,
   "metadata": {},
   "outputs": [],
   "source": [
    "# terms_dict = defaultdict(list)\n",
    "terms_list = []\n",
    "appDictionary = {}\n",
    "relatedSearchTerms = {}"
   ]
  },
  {
   "cell_type": "code",
   "execution_count": 17,
   "metadata": {},
   "outputs": [],
   "source": [
    "#Class to store app details in object format\n",
    "class AppDetails:\n",
    "    def __init__(self, title, description, stars, appID, imageSource, developerName):\n",
    "        self.title = title\n",
    "        self.description = description\n",
    "        self.stars = stars\n",
    "        self.appID = appID\n",
    "        self.imageSource = imageSource\n",
    "        self.developerTag = developerTag\n",
    "        self.developerName = developerName\n",
    "        \n",
    "    def toString(application):\n",
    "        return application.title + \", \" + application.appID + \", \" + application.description + \", \" + application.stars + \", \" + application.imageSource + \", \" + application.developerTag + \", \" + application.developerName"
   ]
  },
  {
   "cell_type": "code",
   "execution_count": 27,
   "metadata": {},
   "outputs": [
    {
     "name": "stdout",
     "output_type": "stream",
     "text": [
      "Database created!\n"
     ]
    }
   ],
   "source": [
    "#DB DRIVERS\n",
    "\n",
    "def create_connection(db_file):\n",
    "    \"\"\" create a database connection to the SQLite database\n",
    "        specified by db_file\n",
    "    :param db_file: database file\n",
    "    :return: Connection object or None\n",
    "    \"\"\"\n",
    "    conn = None\n",
    "    try:\n",
    "        conn = sqlite3.connect(db_file)\n",
    "        return conn\n",
    "    except Error as e:\n",
    "        print(e)\n",
    " \n",
    "    return conn\n",
    "            \n",
    "            \n",
    "def create_table(conn, create_table_sql):\n",
    "    \"\"\" create a table from the create_table_sql statement\n",
    "    :param conn: Connection object\n",
    "    :param create_table_sql: a CREATE TABLE statement\n",
    "    :return:\n",
    "    \"\"\"\n",
    "    try:\n",
    "        c = conn.cursor()\n",
    "        c.execute(create_table_sql)\n",
    "    except Error as e:\n",
    "        print(e)\n",
    "        \n",
    "sql_create_appDetailsMainTable_table = \"\"\" CREATE TABLE IF NOT EXISTS appDetailsMainTable (\n",
    "                                        key text NOT NULL,\n",
    "                                        appIDs text NOT NULL,\n",
    "                                        source text NOT NULL\n",
    "                                    ); \"\"\"\n",
    "\n",
    "sql_create_appDetails_table = \"\"\" CREATE TABLE IF NOT EXISTS appDetails (\n",
    "                                        appID text PRIMARY KEY,\n",
    "                                        title text NOT NULL,\n",
    "                                        description text,\n",
    "                                        stars text,\n",
    "                                        imageSource text,\n",
    "                                        source text\n",
    "                                    ); \"\"\"\n",
    "\n",
    "sql_create_relatedSearchTerms_table = \"\"\" CREATE TABLE IF NOT EXISTS relatedSearchTerms (\n",
    "                                        keyTerm text PRIMARY KEY,\n",
    "                                        terms text NOT NULL,\n",
    "                                        source text\n",
    "                                    ); \"\"\"\n",
    "\n",
    "def databaseStartUp():\n",
    "    # Create connection\n",
    "    conn = create_connection(r\"database.db\")\n",
    "\n",
    "    # Create table\n",
    "    if conn is not None:\n",
    "        create_table(conn, sql_create_appDetailsMainTable_table)\n",
    "        create_table(conn, sql_create_appDetails_table)\n",
    "        create_table(conn, sql_create_relatedSearchTerms_table)\n",
    "        print(\"Database created!\")\n",
    "    else:\n",
    "        print(\"Error! cannot create the database connection.\")\n",
    "        \n",
    "databaseStartUp()"
   ]
  },
  {
   "cell_type": "code",
   "execution_count": 20,
   "metadata": {},
   "outputs": [],
   "source": [
    "with open('android_terms.csv','rt')as f:\n",
    "  data = csv.reader(f)\n",
    "  lineNumber = 0;\n",
    "  for row in data:\n",
    "        if lineNumber >= 1:\n",
    "            key = row[2];\n",
    "            terms = row[3];\n",
    "            i = 0;\n",
    "            for term in terms.split('\"'):\n",
    "                if i%2 == 0:\n",
    "                    i = i+1;\n",
    "                    continue\n",
    "                else:\n",
    "                    i = i+1;\n",
    "                    terms_list.append(term)\n",
    "        else:\n",
    "            lineNumber = lineNumber + 1;"
   ]
  },
  {
   "cell_type": "code",
   "execution_count": 21,
   "metadata": {},
   "outputs": [],
   "source": [
    "finalTermsList = []"
   ]
  },
  {
   "cell_type": "code",
   "execution_count": 22,
   "metadata": {},
   "outputs": [],
   "source": [
    "finalTermsList.clear()\n",
    "for term in terms_list:\n",
    "    result = \"\";\n",
    "    if len(term.split(' ')) > 1:\n",
    "        count = len(term.split(' '));\n",
    "        i = 0;\n",
    "        for word in term.split(' '):\n",
    "            if i > 0:\n",
    "                result = result + \"+\";\n",
    "            result = result + word;\n",
    "            i = i + 1;\n",
    "        finalTermsList.append(result)\n",
    "    else:\n",
    "        finalTermsList.append(term)"
   ]
  },
  {
   "cell_type": "code",
   "execution_count": 23,
   "metadata": {},
   "outputs": [
    {
     "data": {
      "text/plain": [
       "432331"
      ]
     },
     "execution_count": 23,
     "metadata": {},
     "output_type": "execute_result"
    }
   ],
   "source": [
    "len(finalTermsList)"
   ]
  },
  {
   "cell_type": "code",
   "execution_count": 7,
   "metadata": {},
   "outputs": [
    {
     "name": "stdout",
     "output_type": "stream",
     "text": [
      "https://apk.support/search?q=mspy&t=app\n"
     ]
    }
   ],
   "source": [
    "payload = {'q': 'mspy', 't': 'app'}\n",
    "r = requests.get('https://apk.support/search', params=payload);\n",
    "print(r.url)\n",
    "print(r.status_code)"
   ]
  },
  {
   "cell_type": "code",
   "execution_count": 9,
   "metadata": {},
   "outputs": [],
   "source": [
    "# TEST\n",
    "soup = BeautifulSoup(r.text, 'html.parser')\n",
    "app_table = soup.find_all(\"h3\")\n",
    "appNamesList = []\n",
    "for app in app_table:\n",
    "    appName = app.get_text()\n",
    "    appNamesList.append(appName)\n",
    "appDictionary[\"mspy\"] = appNamesList"
   ]
  },
  {
   "cell_type": "code",
   "execution_count": null,
   "metadata": {},
   "outputs": [],
   "source": [
    "# TEST Cleanup List\n",
    "for term in finalTermsList:\n",
    "    if(term == \"\"):\n",
    "        finalTermsList.remove(term)\n",
    "singleWordSet = set();\n",
    "for term in finalTermsList:\n",
    "    if(term.find(\"+\") == -1 and term != \"\"):\n",
    "        singleWordSet.add(term)"
   ]
  },
  {
   "cell_type": "code",
   "execution_count": 24,
   "metadata": {},
   "outputs": [
    {
     "name": "stdout",
     "output_type": "stream",
     "text": [
      "1557\n"
     ]
    }
   ],
   "source": [
    "wordSet = set();\n",
    "for term in finalTermsList:\n",
    "    if(term != \"\"):\n",
    "        wordSet.add(term)\n",
    "print(len(wordSet))"
   ]
  },
  {
   "cell_type": "code",
   "execution_count": 70,
   "metadata": {},
   "outputs": [],
   "source": [
    "# FOR TEST PURPOSE\n",
    "singleWordSet = {'cheater', 'cheaters', 'cheating', 'track husband', 'keylogger', 'keyloggers'}"
   ]
  },
  {
   "cell_type": "code",
   "execution_count": null,
   "metadata": {},
   "outputs": [],
   "source": [
    "i = 0\n",
    "for word in wordSet:\n",
    "    time.sleep(1)\n",
    "    print(\"Starting \" + word + \" \" + str(i))\n",
    "    payload = {'q': word, 't': 'app'};\n",
    "    r = requests.get('https://apk.support/search', params=payload);\n",
    "    soup = BeautifulSoup(r.text, 'html.parser');\n",
    "    # Get App Names\n",
    "    names_table = soup.find_all(\"div\", attrs={\"class\": \"it_column\"})\n",
    "    if(len(names_table) == 0):\n",
    "        print(\"Skipping \" + word)\n",
    "        continue\n",
    "    finalList = []\n",
    "    for name in names_table:\n",
    "        # Developer Information\n",
    "        developerPart = name.find_all(\"div\", attrs={\"class\": \"ss_tg\"})\n",
    "        developerPart = developerPart[0].find_all(\"a\")\n",
    "        developerTag = developerPart[0]['href']\n",
    "        developerTag = developerTag[10:]\n",
    "        developerName = developerPart[0].get_text()\n",
    "        information = name.find_all(\"a\")\n",
    "        # Title\n",
    "        titleTag = information[0].find_all(\"h3\")\n",
    "        title = titleTag[0].get_text()\n",
    "#         print(\"Title is \" + title)\n",
    "        # Description\n",
    "        descriptionTag = information[0].find_all(\"p\")\n",
    "        description = descriptionTag[0].get_text()\n",
    "#         print(\"Description is \" + description)\n",
    "        # Stars\n",
    "        starsTag = information[0].find_all(\"div\", attrs = {\"class\" : \"stars\"})\n",
    "        starsSpan = starsTag[0].find_all(\"span\")\n",
    "        stars = starsSpan[0]['title']\n",
    "        starCount = stars[stars.rindex(' ')+1:]\n",
    "#         print(\"Stars is \" + starCount)\n",
    "        # AppID\n",
    "        appID = information[0]['href']\n",
    "        appID = appID[4 : ]\n",
    "#         print(\"AppID:- \" + appID)\n",
    "        # Image Source Link\n",
    "        imageTag = information[0].find_all(\"div\", attrs={\"class\" : \"seo_img\"})\n",
    "        imageTag = imageTag[0].find_all(\"img\")\n",
    "        imageSource = imageTag[0]['data-original']\n",
    "#         print(\" ImageSrc:- \" + imageSource)\n",
    "        perAppObject = AppDetails(title, description, starCount, appID, imageSource, developerTag, developerName)\n",
    "        finalList.append(perAppObject)\n",
    "        \n",
    "    # Suggestion Addition\n",
    "    suggestionList = soup.find_all(\"div\", attrs={\"class\": \"suggest\"})\n",
    "    suggestionList = suggestionList[0].find_all(\"li\")\n",
    "    suggestions = []\n",
    "    for suggestion in suggestionList:\n",
    "        suggestionName = suggestion.get_text()\n",
    "        suggestions.append(suggestionName)\n",
    "    appDictionary[word] = finalList\n",
    "    relatedSearchTerms[word] = suggestions\n",
    "    i = i+1\n",
    "    print(\"Completed \" + word)"
   ]
  },
  {
   "cell_type": "code",
   "execution_count": null,
   "metadata": {},
   "outputs": [],
   "source": [
    "# Map check Code\n",
    "for app in appDictionary:\n",
    "    appList = appDictionary[app]\n",
    "    print(\"Entries for \" + app)\n",
    "    for application in appList:\n",
    "        print(application.toString())\n",
    "        print(\"------------------------------->>>\")"
   ]
  },
  {
   "cell_type": "code",
   "execution_count": null,
   "metadata": {},
   "outputs": [],
   "source": [
    "# Saving dict to file\n",
    "with open('apksupport.json', 'w') as f:\n",
    "    json.dump(appDictionary, f)\n",
    "\n",
    "with open('relatedSearchTerms_apksupport.json', 'w') as f:\n",
    "    json.dump(relatedSearchTerms, f)"
   ]
  },
  {
   "cell_type": "code",
   "execution_count": null,
   "metadata": {},
   "outputs": [],
   "source": [
    "SQLite3\n",
    "dataset package python\n",
    "\n",
    "upper table -> key and set of app ids\n",
    "lower table -> app id is primary key and we write to this."
   ]
  },
  {
   "cell_type": "code",
   "execution_count": 18,
   "metadata": {},
   "outputs": [],
   "source": []
  },
  {
   "cell_type": "code",
   "execution_count": 20,
   "metadata": {},
   "outputs": [],
   "source": []
  },
  {
   "cell_type": "code",
   "execution_count": null,
   "metadata": {},
   "outputs": [],
   "source": []
  }
 ],
 "metadata": {
  "kernelspec": {
   "display_name": "Python 3",
   "language": "python",
   "name": "python3"
  },
  "language_info": {
   "codemirror_mode": {
    "name": "ipython",
    "version": 3
   },
   "file_extension": ".py",
   "mimetype": "text/x-python",
   "name": "python",
   "nbconvert_exporter": "python",
   "pygments_lexer": "ipython3",
   "version": "3.7.4"
  }
 },
 "nbformat": 4,
 "nbformat_minor": 2
}
